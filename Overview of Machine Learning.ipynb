{
 "cells": [
  {
   "cell_type": "markdown",
   "metadata": {},
   "source": [
    "Machine Learning Overview\n",
    "---------------\n",
    "---\n",
    "**Defintion**: Machine Learning (ML) is an automated process that attempts to **extract patterns from data**. ML models are built with the intention of learning by itself and improving with experience. ML algorithms automate the process of learning a model that captures the relationship between the descriptive features and the target feature. But what does it mean to learn? A popular defintion is:\n",
    "> A computer program is said to learn from experience E with respect to some class of tasks T and performance measure P, if its performance at tasks in T, as measured by P, improves with experience E.\n",
    "\n",
    "There are 3 main branches of Machine Learning\n",
    "* **Supervised Learning**\n",
    "    * Learn a model that captures the relationship/function between a set of input features (X) and its target feature (Y). Since we know the target feature, the data is considered \"labeled\". \n",
    "    \n",
    "* **Unsupervised Learning**\n",
    "    * Learn a model that captures the underlying strucutre of the data. We are only given input features (X) and no output feature. Thus, the data is considered \"unlabeled\". One example is finding groups of similar people based on their Netflix history.\n",
    "* **Reinforcement Learning (RL)**\n",
    "    * Differs from supervised and unsupervised since the RL agent attempts to find the optimal course of action through thousands or millions of repetitions. The agent/learner \"learns\" the optimal actions by trying out many different actions, and based on the feedback/rewards from its enviroment, it adjusts how it acts accordingly. The most popular example would be AlphaGo Zero.\n",
    "    \n",
    "![Branches](https://cdn-images-1.medium.com/max/899/1*9Eu_-DDMZ_bP_t94_MMEYA.png)\n",
    "\n",
    "How Does Machine Learning Work?\n",
    "--------------- \n",
    "---\n",
    "* Machine Learning works by searching through a set of possible models that best captures the relationship between the input variables (X) and the output variables (Y).\n",
    "* However, searching for models that are consistent with the data is not sufficient. Why?\n",
    "    * 1) There will always be noise in the data. Noise is basically just meaningless or useless data. If the models capture the noise, it will lead to incorrect predictions.\n",
    "    * 2) The input data only represents a small sample of all the possible instances; there will never be a dataset that fully captures every possible scenario. Since our data is so limited, we can call machine learning an ill-posed problem. In other words, a unique solution cannot be obtained given the data.\n",
    "    \n",
    "* Since we only have a small sample of the dataset's domain, we need to find a model that generalizes well- meaning that the model can make accurate predictions for the data points that are not present in the data.\n",
    "\n",
    "Choosing a Machine Learning Algorithm\n",
    "--------------- \n",
    "---\n",
    "* Each ML algorithm uses a different underlying model selection criterion to find the best model. \n",
    "* When we choose a ML algorithm over another, we are essentially choosing to use one model selection criterion over another.\n",
    "* All the model selection criteria consist of a set of assumptions about the model.\n",
    "    * This set of assumptions is known as the inductive bias of the machine learning algorithm. There are two types of inductive bias that a ML algorithm can use:\n",
    "        * 1) **Restriction Bias**- constrains the set of models that the algorithm will consider during the learning process\n",
    "        * 2) **Preference Bias**- guides the learning algorithm to prefer certain models over others\n",
    "\n",
    "Pitfalls of Machine Learning\n",
    "--------------- \n",
    "---\n",
    "* **Underfitting**- the model we choose is too simple and it fails to capture the relationship between the inputs and outputs.\n",
    "* **Overfitting**- the model is too complex and captures the noise in the data\n",
    "* Our goal is to find the **Goldilocks Model**- the model that strikes the right balance between overfitting and underfitting. Finding this just right model is essentially the art of ML.\n",
    "\n",
    "![Branches](https://qph.fs.quoracdn.net/main-qimg-b4112b5d856f4f0da349460aeed854d8 \"Overfitting\")\n",
    "\n",
    "## References \n",
    "---\n",
    "\n",
    "Kelleher, John D., et al. Fundamentals of Machine Learning for Predictive Data Analytics: Algorithms, Worked Examples, and Case Studies. The MIT Press, 2015."
   ]
  }
 ],
 "metadata": {
  "kernelspec": {
   "display_name": "Python 3",
   "language": "python",
   "name": "python3"
  },
  "language_info": {
   "codemirror_mode": {
    "name": "ipython",
    "version": 3
   },
   "file_extension": ".py",
   "mimetype": "text/x-python",
   "name": "python",
   "nbconvert_exporter": "python",
   "pygments_lexer": "ipython3",
   "version": "3.6.4"
  }
 },
 "nbformat": 4,
 "nbformat_minor": 2
}
